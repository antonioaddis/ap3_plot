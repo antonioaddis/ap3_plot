{
 "metadata": {
  "language_info": {
   "codemirror_mode": {
    "name": "ipython",
    "version": 3
   },
   "file_extension": ".py",
   "mimetype": "text/x-python",
   "name": "python",
   "nbconvert_exporter": "python",
   "pygments_lexer": "ipython3",
   "version": "3.7.4-final"
  },
  "orig_nbformat": 2,
  "kernelspec": {
   "name": "python_defaultSpec_1598648468818",
   "display_name": "Python 3.7.4 64-bit ('base': conda)"
  }
 },
 "nbformat": 4,
 "nbformat_minor": 2,
 "cells": [
  {
   "cell_type": "code",
   "execution_count": 1,
   "metadata": {},
   "outputs": [],
   "source": [
    "import numpy as np\n",
    "import plot\n",
    "import os"
   ]
  },
  {
   "cell_type": "code",
   "execution_count": 2,
   "metadata": {
    "tags": []
   },
   "outputs": [
    {
     "output_type": "stream",
     "name": "stdout",
     "text": "####\n30090    193084200.0\n30091    193095600.0\nName: tstart, dtype: float64\n####\n38499    206918400.0\n38500    206918700.0\nName: tstart, dtype: float64\n####\n48690    223085400.0\n48691    223085700.0\n48692    223086000.0\n48693    223086300.0\n48694    223086600.0\n            ...     \n48761    223166100.0\n48762    223166400.0\n48763    223166700.0\n48764    223167000.0\n48765    223167300.0\nName: tstart, Length: 76, dtype: float64\n####\n54107    231900900.0\n54108    231901200.0\n54109    231901500.0\n54110    231901800.0\n54111    231906900.0\n            ...     \n54182    231980700.0\n54183    231981000.0\n54184    231981300.0\n54185    231981600.0\n54186    231981900.0\nName: tstart, Length: 80, dtype: float64\n####\n148901    379815300.0\n148902    379815600.0\n148903    379815900.0\n148904    379816200.0\n148905    379816500.0\n             ...     \n148974    379895700.0\n148975    379896000.0\n148976    379896300.0\n148977    379896600.0\n148978    379896900.0\nName: tstart, Length: 78, dtype: float64\n####\n167674    410228700.0\n167675    410229000.0\n167676    410229300.0\n167677    410229600.0\n167678    410229900.0\n             ...     \n167739    410308800.0\n167740    410309100.0\n167741    410309400.0\n167742    410309700.0\n167743    410310000.0\nName: tstart, Length: 70, dtype: float64\nntrials  172520\nnsig  6\n"
    }
   ],
   "source": [
    "fermifile=\"~/projects/IGRJ17354-3255/2020/LS/FERMI/FER2_TBS300_R2_BARC0_EB100-10000.ap.ap4\"\n",
    "plot.checkSignificance(fermifile, 54720, 57840)\n"
   ]
  },
  {
   "cell_type": "code",
   "execution_count": null,
   "metadata": {},
   "outputs": [],
   "source": [
    "x = np.array([11,6,5,9,10,10, 6, 21, 6, 7, 11, 10, 6, 7,12])"
   ]
  },
  {
   "cell_type": "code",
   "execution_count": null,
   "metadata": {},
   "outputs": [],
   "source": [
    "x.std()"
   ]
  },
  {
   "cell_type": "code",
   "execution_count": null,
   "metadata": {},
   "outputs": [],
   "source": []
  },
  {
   "cell_type": "code",
   "execution_count": null,
   "metadata": {},
   "outputs": [],
   "source": [
    "x.mean()"
   ]
  },
  {
   "cell_type": "code",
   "execution_count": null,
   "metadata": {},
   "outputs": [],
   "source": []
  },
  {
   "cell_type": "code",
   "execution_count": null,
   "metadata": {},
   "outputs": [],
   "source": [
    "np.median(x)"
   ]
  },
  {
   "cell_type": "code",
   "execution_count": null,
   "metadata": {},
   "outputs": [],
   "source": []
  },
  {
   "cell_type": "code",
   "execution_count": null,
   "metadata": {},
   "outputs": [],
   "source": []
  },
  {
   "cell_type": "code",
   "execution_count": null,
   "metadata": {},
   "outputs": [],
   "source": []
  },
  {
   "cell_type": "code",
   "execution_count": null,
   "metadata": {},
   "outputs": [],
   "source": []
  },
  {
   "cell_type": "code",
   "execution_count": null,
   "metadata": {},
   "outputs": [],
   "source": []
  }
 ]
}